{
  "cells": [
    {
      "cell_type": "markdown",
      "metadata": {
        "id": "responsible-romantic"
      },
      "source": [
        "# CycleGAN Tutorial from Scratch\n",
        "cyclegan is a pix2pix image generation model that generates images from datasets that do not require pairs.\n",
        "\n",
        "We will implement this cyclegan directly from the ground up with pytorch, and practice converting monet pictures into pictures and pictures into monet pictures.\n"
      ],
      "id": "responsible-romantic"
    },
    {
      "cell_type": "markdown",
      "metadata": {
        "id": "latin-agreement"
      },
      "source": [
        "# CycleGAN : Unpaired Image-to-Image Translation using Cycle-Consistent Adversarial Networks\n",
        "\n",
        "[--> Paper](https://openaccess.thecvf.com/content_ICCV_2017/papers/Zhu_Unpaired_Image-To-Image_Translation_ICCV_2017_paper.pdf)\n",
        "\n",
        "![--> Paper](https://openaccess.thecvf.com/content_ICCV_2017/papers/Zhu_Unpaired_Image-To-Image_Translation_ICCV_2017_paper.pdf)"
      ],
      "id": "latin-agreement"
    },
    {
      "cell_type": "code",
      "source": [],
      "metadata": {
        "id": "VsTbRy5MkC68"
      },
      "id": "VsTbRy5MkC68",
      "execution_count": null,
      "outputs": []
    },
    {
      "cell_type": "markdown",
      "metadata": {
        "id": "fallen-steal"
      },
      "source": [
        "## Main Reference\n",
        "1. [PyTorch-GAN | Github/eriklindernoren | Collection of PyTorch implementations of GAN](https://github.com/sw-song/PyTorch-GAN)\n",
        "2. [CycleGAN | Github/junyanz | Torch implementation for learning an image-to-image translation without input-output pairs](https://github.com/junyanz/CycleGAN)"
      ],
      "id": "fallen-steal"
    },
    {
      "cell_type": "markdown",
      "metadata": {
        "id": "diverse-intake"
      },
      "source": [
        "We will implement the following structure with `PyTorch`"
      ],
      "id": "diverse-intake"
    },
    {
      "cell_type": "markdown",
      "metadata": {
        "id": "racial-smell"
      },
      "source": [
        "![image](https://miro.medium.com/max/1838/0*S5gn5i6UhfyoRr9S.png)"
      ],
      "id": "racial-smell"
    },
    {
      "cell_type": "markdown",
      "metadata": {
        "id": "domestic-referral"
      },
      "source": [
        "## Index\n",
        "```\n",
        "Step 1. Import Libraries\n",
        "Step 2. Initial Setting\n",
        "Step 3. Define Generator\n",
        "Step 4. Define Discriminator\n",
        "Step 5. Define Loss Function\n",
        "Step 6. Initialize Generator and Discriminator\n",
        "Step 7. GPU Setting\n",
        "Step 8. Weight Setting\n",
        "Step 9. Configure Optimizer\n",
        "Step 10. Learning Rate Scheduler Setting\n",
        "Step 11. Image Transformation Setting\n",
        "Step 12. DataLoader Setting\n",
        "Step 13. Define function to get sample images\n",
        "Step 14. Training\n",
        "```\n",
        "---"
      ],
      "id": "domestic-referral"
    },
    {
      "cell_type": "markdown",
      "metadata": {
        "id": "textile-stanford"
      },
      "source": [
        "### Step 1. Import Libraries"
      ],
      "id": "textile-stanford"
    },
    {
      "cell_type": "code",
      "execution_count": null,
      "metadata": {
        "id": "final-details"
      },
      "outputs": [],
      "source": [
        "import numpy as np\n",
        "\n",
        "import torchvision.transforms as transforms\n",
        "from torchvision.utils import make_grid\n",
        "\n",
        "from torch.utils.data import DataLoader\n",
        "from torchvision import datasets\n",
        "from torch.autograd import Variable\n",
        "\n",
        "import torch.nn as nn\n",
        "import torch.nn.functional as F\n",
        "import torch"
      ],
      "id": "final-details"
    },
    {
      "cell_type": "markdown",
      "metadata": {
        "id": "color-brand"
      },
      "source": [
        "### Step 2. Initial Setting"
      ],
      "id": "color-brand"
    },
    {
      "cell_type": "code",
      "execution_count": null,
      "metadata": {
        "colab": {
          "base_uri": "https://localhost:8080/"
        },
        "id": "ytO2TnPmtvfB",
        "outputId": "baaa4bcd-3b79-441f-bc92-3acba35aa852"
      },
      "outputs": [
        {
          "output_type": "stream",
          "name": "stdout",
          "text": [
            "Mounted at /content/drive\n"
          ]
        }
      ],
      "source": [
        "from google.colab import drive\n",
        "drive.mount('/content/drive')"
      ],
      "id": "ytO2TnPmtvfB"
    },
    {
      "cell_type": "code",
      "execution_count": null,
      "metadata": {
        "colab": {
          "base_uri": "https://localhost:8080/"
        },
        "id": "religious-summit",
        "outputId": "e63970f1-5c11-40b9-e2cf-a19ecc3f5ce9"
      },
      "outputs": [
        {
          "output_type": "stream",
          "name": "stdout",
          "text": [
            "processor\t: 0\n",
            "processor\t: 1\n"
          ]
        }
      ],
      "source": [
        "# number of cpu (in kaggle server)\n",
        "!cat /proc/cpuinfo | grep processor"
      ],
      "id": "religious-summit"
    },
    {
      "cell_type": "code",
      "execution_count": null,
      "metadata": {
        "id": "interim-uncle"
      },
      "outputs": [],
      "source": [
        "n_cpu = 2 # number of cpu threads to use during batch generation"
      ],
      "id": "interim-uncle"
    },
    {
      "cell_type": "code",
      "execution_count": null,
      "metadata": {
        "id": "political-xerox"
      },
      "outputs": [],
      "source": [
        "# data ('/content/drive/MyDrive/dataset.zip')\n",
        "dataset_name = 'dataset'\n",
        "root = '/content/drive/MyDrive/'+dataset_name\n",
        "\n",
        "# data (img)\n",
        "img_height = 160\n",
        "img_width = 120\n",
        "channels = 3\n",
        "\n",
        "# training\n",
        "epoch = 0 # epoch to start training from\n",
        "n_epochs = 20 # number of epochs of training\n",
        "batch_size = 1 # size of the batches\n",
        "lr = 0.0002 # adam : learning rate\n",
        "b1 = 0.5 # adam : decay of first order momentum of gradient\n",
        "b2 = 0.999 # adam : decay of first order momentum of gradient\n",
        "decay_epoch = 15 # suggested default : 100 (suggested 'n_epochs' is 200)\n",
        "                 # epoch from which to start lr decay\n"
      ],
      "id": "political-xerox"
    },
    {
      "cell_type": "markdown",
      "metadata": {
        "id": "reasonable-conspiracy"
      },
      "source": [
        "### Step 3. Define Generator"
      ],
      "id": "reasonable-conspiracy"
    },
    {
      "cell_type": "code",
      "execution_count": null,
      "metadata": {
        "id": "conscious-buying"
      },
      "outputs": [],
      "source": [
        "class ResidualBlock(nn.Module):\n",
        "    def __init__(self, in_features):\n",
        "        super(ResidualBlock, self).__init__()\n",
        "        \n",
        "        self.block = nn.Sequential(\n",
        "            nn.ReflectionPad2d(1), # Pads the input tensor using the reflection of the input boundary\n",
        "            nn.Conv2d(in_features, in_features, 3),\n",
        "            nn.InstanceNorm2d(in_features), \n",
        "            nn.ReLU(inplace=True),\n",
        "            nn.ReflectionPad2d(1),\n",
        "            nn.Conv2d(in_features, in_features, 3),\n",
        "            nn.InstanceNorm2d(in_features)\n",
        "        )\n",
        "\n",
        "    def forward(self, x):\n",
        "        return x + self.block(x)\n",
        "\n",
        "\n",
        "class GeneratorResNet(nn.Module):\n",
        "    def __init__(self, input_shape, num_residual_block):\n",
        "        super(GeneratorResNet, self).__init__()\n",
        "        \n",
        "        channels = input_shape[0]\n",
        "        \n",
        "        # Initial Convolution Block\n",
        "        out_features = 64\n",
        "        model = [\n",
        "            nn.ReflectionPad2d(channels),\n",
        "            nn.Conv2d(channels, out_features, 7),\n",
        "            nn.InstanceNorm2d(out_features),\n",
        "            nn.ReLU(inplace=True)\n",
        "        ]\n",
        "        in_features = out_features\n",
        "        \n",
        "        # Downsampling\n",
        "        for _ in range(2):\n",
        "            out_features *= 2\n",
        "            model += [\n",
        "                nn.Conv2d(in_features, out_features, 3, stride=2, padding=1),\n",
        "                nn.InstanceNorm2d(out_features),\n",
        "                nn.ReLU(inplace=True)\n",
        "            ]\n",
        "            in_features = out_features\n",
        "        \n",
        "        # Residual blocks\n",
        "        for _ in range(num_residual_block):\n",
        "            model += [ResidualBlock(out_features)]\n",
        "            \n",
        "        # Upsampling\n",
        "        for _ in range(2):\n",
        "            out_features //= 2\n",
        "            model += [\n",
        "                nn.Upsample(scale_factor=2), # --> width*2, heigh*2\n",
        "                nn.Conv2d(in_features, out_features, 3, stride=1, padding=1),\n",
        "                nn.ReLU(inplace=True)\n",
        "            ]\n",
        "            in_features = out_features\n",
        "            \n",
        "        # Output Layer\n",
        "        model += [nn.ReflectionPad2d(channels),\n",
        "                  nn.Conv2d(out_features, channels, 7),\n",
        "                  nn.Tanh()\n",
        "                 ]\n",
        "        \n",
        "        # Unpacking\n",
        "        self.model = nn.Sequential(*model) \n",
        "        \n",
        "    def forward(self, x):\n",
        "        return self.model(x)"
      ],
      "id": "conscious-buying"
    },
    {
      "cell_type": "markdown",
      "metadata": {
        "id": "sophisticated-swiss"
      },
      "source": [
        "> TEST CODE : nn.Upsample"
      ],
      "id": "sophisticated-swiss"
    },
    {
      "cell_type": "code",
      "execution_count": null,
      "metadata": {
        "id": "chief-insulation"
      },
      "outputs": [],
      "source": [
        "tensor = torch.from_numpy(np.random.randn(2,2))"
      ],
      "id": "chief-insulation"
    },
    {
      "cell_type": "code",
      "execution_count": null,
      "metadata": {
        "colab": {
          "base_uri": "https://localhost:8080/"
        },
        "id": "engaged-campus",
        "outputId": "307fdfee-7071-4529-beb6-d2218ddfde8a"
      },
      "outputs": [
        {
          "output_type": "execute_result",
          "data": {
            "text/plain": [
              "tensor([[ 0.5436,  0.1425],\n",
              "        [ 0.0137, -1.4177]], dtype=torch.float64)"
            ]
          },
          "metadata": {},
          "execution_count": 8
        }
      ],
      "source": [
        "tensor"
      ],
      "id": "engaged-campus"
    },
    {
      "cell_type": "code",
      "execution_count": null,
      "metadata": {
        "colab": {
          "base_uri": "https://localhost:8080/"
        },
        "id": "large-actress",
        "outputId": "952abd3c-43c1-4e2c-e769-5b5cf4c8c348"
      },
      "outputs": [
        {
          "output_type": "execute_result",
          "data": {
            "text/plain": [
              "tensor([[[[ 0.5436,  0.1425],\n",
              "          [ 0.0137, -1.4177]]]], dtype=torch.float64)"
            ]
          },
          "metadata": {},
          "execution_count": 9
        }
      ],
      "source": [
        "tensor = tensor.view(1,1,2,2)\n",
        "tensor # nn.Upsample get only 3/4/5D tensor"
      ],
      "id": "large-actress"
    },
    {
      "cell_type": "code",
      "execution_count": null,
      "metadata": {
        "colab": {
          "base_uri": "https://localhost:8080/"
        },
        "id": "forward-federal",
        "outputId": "4df23c41-1f48-40e8-90b0-9333730b3f89"
      },
      "outputs": [
        {
          "output_type": "execute_result",
          "data": {
            "text/plain": [
              "tensor([[[[ 0.5436,  0.5436,  0.1425,  0.1425],\n",
              "          [ 0.5436,  0.5436,  0.1425,  0.1425],\n",
              "          [ 0.0137,  0.0137, -1.4177, -1.4177],\n",
              "          [ 0.0137,  0.0137, -1.4177, -1.4177]]]], dtype=torch.float64)"
            ]
          },
          "metadata": {},
          "execution_count": 10
        }
      ],
      "source": [
        "test_m = nn.Upsample(scale_factor=2)\n",
        "test_m(tensor)"
      ],
      "id": "forward-federal"
    },
    {
      "cell_type": "markdown",
      "metadata": {
        "id": "experienced-genetics"
      },
      "source": [
        "> Read More\n",
        "- [torch.nn.ReflectionPad2d(padding)](https://pytorch.org/docs/stable/generated/torch.nn.ReflectionPad2d.html)\n",
        "- [torch.nn.InstanceNorm2d(num_features, ...)](https://pytorch.org/docs/stable/generated/torch.nn.InstanceNorm2d.html)\n",
        "    - Example : Compare 4dim-Normalization methods,https://wdprogrammer.tistory.com/67\n",
        "\n",
        "![image](https://www.notion.so/image/https%3A%2F%2Fs3-us-west-2.amazonaws.com%2Fsecure.notion-static.com%2Fa23e53c6-47a1-4ae6-96b0-f4836b5d82a8%2FUntitled.png?table=block&id=2e5405fd-24c7-49e1-aa2e-69a80d8b4bf4&width=2800&cache=v2)\n",
        "- [torch.nn.Upsample(size=None, scale_factor=None, mode='nearest', align_corners=None)](https://pytorch.org/docs/stable/generated/torch.nn.Upsample.html)"
      ],
      "id": "experienced-genetics"
    },
    {
      "cell_type": "markdown",
      "metadata": {
        "id": "brave-intelligence"
      },
      "source": [
        "### Step 4. Define Discriminator"
      ],
      "id": "brave-intelligence"
    },
    {
      "cell_type": "code",
      "execution_count": null,
      "metadata": {
        "id": "furnished-metro"
      },
      "outputs": [],
      "source": [
        "class Discriminator(nn.Module):\n",
        "    def __init__(self, input_shape):\n",
        "        super(Discriminator, self).__init__()\n",
        "        \n",
        "        channels, height, width = input_shape\n",
        "        \n",
        "        # Calculate output shape of image discriminator (PatchGAN)\n",
        "        self.output_shape = (1, height//2**4, width//2**4)\n",
        "        \n",
        "        def discriminator_block(in_filters, out_filters, normalize=True):\n",
        "            \"\"\"Returns downsampling layers of each discriminator block\"\"\"\n",
        "            layers = [nn.Conv2d(in_filters, out_filters, 4, stride=2, padding=1)]\n",
        "            if normalize:\n",
        "                layers.append(nn.InstanceNorm2d(out_filters))\n",
        "            layers.append(nn.LeakyReLU(0.2, inplace=True))\n",
        "            return layers\n",
        "        \n",
        "        self.model = nn.Sequential(\n",
        "            *discriminator_block(channels, 64, normalize=False),\n",
        "            *discriminator_block(64, 128),\n",
        "            *discriminator_block(128,256),\n",
        "            *discriminator_block(256,512),\n",
        "            nn.ZeroPad2d((1,0,1,0)),\n",
        "            nn.Conv2d(512, 1, 4, padding=1)\n",
        "        )\n",
        "        \n",
        "    def forward(self, img):\n",
        "        return self.model(img)"
      ],
      "id": "furnished-metro"
    },
    {
      "cell_type": "markdown",
      "metadata": {
        "id": "great-neighbor"
      },
      "source": [
        "> TEST CODE : nn.ZeroPad2d"
      ],
      "id": "great-neighbor"
    },
    {
      "cell_type": "code",
      "execution_count": null,
      "metadata": {
        "colab": {
          "base_uri": "https://localhost:8080/"
        },
        "id": "running-hazard",
        "outputId": "d14af64d-9ffb-4be0-88be-07fa5f9d38b9"
      },
      "outputs": [
        {
          "output_type": "execute_result",
          "data": {
            "text/plain": [
              "tensor([[ 1.2344, -0.1866],\n",
              "        [ 0.0224,  0.3802]], dtype=torch.float64)"
            ]
          },
          "metadata": {},
          "execution_count": 12
        }
      ],
      "source": [
        "tensor = torch.from_numpy(np.random.randn(2,2))\n",
        "tensor"
      ],
      "id": "running-hazard"
    },
    {
      "cell_type": "code",
      "execution_count": null,
      "metadata": {
        "colab": {
          "base_uri": "https://localhost:8080/"
        },
        "id": "surface-identification",
        "outputId": "0595133a-033d-4eab-d779-873ac0f0ec68"
      },
      "outputs": [
        {
          "output_type": "execute_result",
          "data": {
            "text/plain": [
              "tensor([[ 0.0000,  1.2344, -0.1866],\n",
              "        [ 0.0000,  0.0224,  0.3802]], dtype=torch.float64)"
            ]
          },
          "metadata": {},
          "execution_count": 13
        }
      ],
      "source": [
        "test_m = nn.ZeroPad2d((1,0,0,0)) # Padding_left\n",
        "test_m(tensor)"
      ],
      "id": "surface-identification"
    },
    {
      "cell_type": "code",
      "execution_count": null,
      "metadata": {
        "colab": {
          "base_uri": "https://localhost:8080/"
        },
        "id": "wound-herald",
        "outputId": "0180dd1a-705a-4bb9-c593-c2fcc8ce558b"
      },
      "outputs": [
        {
          "output_type": "execute_result",
          "data": {
            "text/plain": [
              "tensor([[ 1.2344, -0.1866,  0.0000],\n",
              "        [ 0.0224,  0.3802,  0.0000]], dtype=torch.float64)"
            ]
          },
          "metadata": {},
          "execution_count": 14
        }
      ],
      "source": [
        "test_m = nn.ZeroPad2d((0,1,0,0)) # Padding_right\n",
        "test_m(tensor)"
      ],
      "id": "wound-herald"
    },
    {
      "cell_type": "code",
      "execution_count": null,
      "metadata": {
        "colab": {
          "base_uri": "https://localhost:8080/"
        },
        "id": "current-roman",
        "outputId": "a840943a-a0df-4bcc-95eb-a88623c8452e"
      },
      "outputs": [
        {
          "output_type": "execute_result",
          "data": {
            "text/plain": [
              "tensor([[ 0.0000,  0.0000],\n",
              "        [ 1.2344, -0.1866],\n",
              "        [ 0.0224,  0.3802]], dtype=torch.float64)"
            ]
          },
          "metadata": {},
          "execution_count": 15
        }
      ],
      "source": [
        "test_m = nn.ZeroPad2d((0,0,1,0)) # Padding_top\n",
        "test_m(tensor)"
      ],
      "id": "current-roman"
    },
    {
      "cell_type": "code",
      "execution_count": null,
      "metadata": {
        "colab": {
          "base_uri": "https://localhost:8080/"
        },
        "id": "fifth-induction",
        "outputId": "91736422-54fa-4b2e-8816-9d1451bf2b60"
      },
      "outputs": [
        {
          "output_type": "execute_result",
          "data": {
            "text/plain": [
              "tensor([[ 1.2344, -0.1866],\n",
              "        [ 0.0224,  0.3802],\n",
              "        [ 0.0000,  0.0000]], dtype=torch.float64)"
            ]
          },
          "metadata": {},
          "execution_count": 16
        }
      ],
      "source": [
        "test_m = nn.ZeroPad2d((0,0,0,1)) # Padding_bottom\n",
        "test_m(tensor)"
      ],
      "id": "fifth-induction"
    },
    {
      "cell_type": "code",
      "execution_count": null,
      "metadata": {
        "colab": {
          "base_uri": "https://localhost:8080/"
        },
        "id": "bearing-character",
        "outputId": "e5237ebd-67e6-43e7-afc2-ed65b267e274"
      },
      "outputs": [
        {
          "output_type": "execute_result",
          "data": {
            "text/plain": [
              "tensor([[ 0.0000,  0.0000,  0.0000],\n",
              "        [ 0.0000,  1.2344, -0.1866],\n",
              "        [ 0.0000,  0.0224,  0.3802]], dtype=torch.float64)"
            ]
          },
          "metadata": {},
          "execution_count": 17
        }
      ],
      "source": [
        "test_m = nn.ZeroPad2d((1,0,1,0)) # Padding_left and Padding_top\n",
        "test_m(tensor)"
      ],
      "id": "bearing-character"
    },
    {
      "cell_type": "markdown",
      "metadata": {
        "id": "geographic-cotton"
      },
      "source": [
        "### Step 5. Define Loss"
      ],
      "id": "geographic-cotton"
    },
    {
      "cell_type": "code",
      "execution_count": null,
      "metadata": {
        "id": "related-shepherd"
      },
      "outputs": [],
      "source": [
        "criterion_GAN = torch.nn.MSELoss()\n",
        "criterion_cycle = torch.nn.L1Loss()\n",
        "criterion_identity = torch.nn.L1Loss()"
      ],
      "id": "related-shepherd"
    },
    {
      "cell_type": "markdown",
      "metadata": {
        "id": "tribal-liberia"
      },
      "source": [
        "### Step 6. Initialize Generator and Discriminator"
      ],
      "id": "tribal-liberia"
    },
    {
      "cell_type": "code",
      "execution_count": null,
      "metadata": {
        "id": "excited-navigation"
      },
      "outputs": [],
      "source": [
        "input_shape = (channels, img_height, img_width) # (3,256,256)\n",
        "n_residual_blocks = 9 # suggested default, number of residual blocks in generator\n",
        "\n",
        "G_AB = GeneratorResNet(input_shape, n_residual_blocks)\n",
        "G_BA = GeneratorResNet(input_shape, n_residual_blocks)\n",
        "D_A = Discriminator(input_shape)\n",
        "D_B = Discriminator(input_shape)"
      ],
      "id": "excited-navigation"
    },
    {
      "cell_type": "markdown",
      "metadata": {
        "id": "behavioral-orleans"
      },
      "source": [
        "### Step 7. GPU Setting"
      ],
      "id": "behavioral-orleans"
    },
    {
      "cell_type": "code",
      "execution_count": null,
      "metadata": {
        "colab": {
          "base_uri": "https://localhost:8080/"
        },
        "id": "found-abraham",
        "outputId": "f9c7cf39-5892-4a02-e018-987e29deedcc"
      },
      "outputs": [
        {
          "output_type": "stream",
          "name": "stdout",
          "text": [
            "CUDA is available\n"
          ]
        }
      ],
      "source": [
        "cuda = torch.cuda.is_available()\n",
        "\n",
        "if cuda:\n",
        "    print(\"CUDA is available\")\n",
        "    G_AB = G_AB.cuda()\n",
        "    G_BA = G_BA.cuda()\n",
        "    D_A = D_A.cuda()\n",
        "    D_B = D_B.cuda()\n",
        "    \n",
        "    criterion_GAN.cuda()\n",
        "    criterion_cycle.cuda()\n",
        "    criterion_identity.cuda()"
      ],
      "id": "found-abraham"
    },
    {
      "cell_type": "markdown",
      "metadata": {
        "id": "atomic-planning"
      },
      "source": [
        "### Step 8. Weight Setting"
      ],
      "id": "atomic-planning"
    },
    {
      "cell_type": "code",
      "execution_count": null,
      "metadata": {
        "id": "buried-equilibrium"
      },
      "outputs": [],
      "source": [
        "def weights_init_normal(m):\n",
        "    classname = m.__class__.__name__\n",
        "    if classname.find('Conv') != -1:\n",
        "        torch.nn.init.normal_(m.weight.data, 0.0, 0.02) # reset Conv2d's weight(tensor) with Gaussian Distribution\n",
        "        if hasattr(m, 'bias') and m.bias is not None:\n",
        "            torch.nn.init.constant_(m.bias.data, 0.0) # reset Conv2d's bias(tensor) with Constant(0)\n",
        "        elif classname.find('BatchNorm2d') != -1:\n",
        "            torch.nn.init.normal_(m.weight.data, 1.0, 0.02) # reset BatchNorm2d's weight(tensor) with Gaussian Distribution\n",
        "            torch.nn.init.constant_(m.bias.data, 0.0) # reset BatchNorm2d's bias(tensor) with Constant(0)"
      ],
      "id": "buried-equilibrium"
    },
    {
      "cell_type": "code",
      "execution_count": null,
      "metadata": {
        "colab": {
          "base_uri": "https://localhost:8080/"
        },
        "id": "danish-circumstances",
        "outputId": "7e1408ed-f22e-45ac-db33-630aabe2dd37"
      },
      "outputs": [
        {
          "output_type": "execute_result",
          "data": {
            "text/plain": [
              "Discriminator(\n",
              "  (model): Sequential(\n",
              "    (0): Conv2d(3, 64, kernel_size=(4, 4), stride=(2, 2), padding=(1, 1))\n",
              "    (1): LeakyReLU(negative_slope=0.2, inplace=True)\n",
              "    (2): Conv2d(64, 128, kernel_size=(4, 4), stride=(2, 2), padding=(1, 1))\n",
              "    (3): InstanceNorm2d(128, eps=1e-05, momentum=0.1, affine=False, track_running_stats=False)\n",
              "    (4): LeakyReLU(negative_slope=0.2, inplace=True)\n",
              "    (5): Conv2d(128, 256, kernel_size=(4, 4), stride=(2, 2), padding=(1, 1))\n",
              "    (6): InstanceNorm2d(256, eps=1e-05, momentum=0.1, affine=False, track_running_stats=False)\n",
              "    (7): LeakyReLU(negative_slope=0.2, inplace=True)\n",
              "    (8): Conv2d(256, 512, kernel_size=(4, 4), stride=(2, 2), padding=(1, 1))\n",
              "    (9): InstanceNorm2d(512, eps=1e-05, momentum=0.1, affine=False, track_running_stats=False)\n",
              "    (10): LeakyReLU(negative_slope=0.2, inplace=True)\n",
              "    (11): ZeroPad2d((1, 0, 1, 0))\n",
              "    (12): Conv2d(512, 1, kernel_size=(4, 4), stride=(1, 1), padding=(1, 1))\n",
              "  )\n",
              ")"
            ]
          },
          "metadata": {},
          "execution_count": 22
        }
      ],
      "source": [
        "G_AB.apply(weights_init_normal)\n",
        "G_BA.apply(weights_init_normal)\n",
        "D_A.apply(weights_init_normal)\n",
        "D_B.apply(weights_init_normal)"
      ],
      "id": "danish-circumstances"
    },
    {
      "cell_type": "markdown",
      "metadata": {
        "id": "listed-offense"
      },
      "source": [
        "> TEST CODE : `__class__.__name__`\n"
      ],
      "id": "listed-offense"
    },
    {
      "cell_type": "code",
      "execution_count": null,
      "metadata": {
        "id": "diverse-staff"
      },
      "outputs": [],
      "source": [
        "def temp_weights_init_normal(m):\n",
        "    classname =  m.__class__.__name__\n",
        "    print(classname)"
      ],
      "id": "diverse-staff"
    },
    {
      "cell_type": "code",
      "execution_count": null,
      "metadata": {
        "colab": {
          "base_uri": "https://localhost:8080/"
        },
        "id": "reasonable-bonus",
        "outputId": "9b63e93f-2abc-4ec4-e16b-d9711435713e"
      },
      "outputs": [
        {
          "output_type": "stream",
          "name": "stdout",
          "text": [
            "ReflectionPad2d\n",
            "Conv2d\n",
            "InstanceNorm2d\n",
            "ReLU\n",
            "Conv2d\n",
            "InstanceNorm2d\n",
            "ReLU\n",
            "Conv2d\n",
            "InstanceNorm2d\n",
            "ReLU\n",
            "ReflectionPad2d\n",
            "Conv2d\n",
            "InstanceNorm2d\n",
            "ReLU\n",
            "ReflectionPad2d\n",
            "Conv2d\n",
            "InstanceNorm2d\n",
            "Sequential\n",
            "ResidualBlock\n",
            "ReflectionPad2d\n",
            "Conv2d\n",
            "InstanceNorm2d\n",
            "ReLU\n",
            "ReflectionPad2d\n",
            "Conv2d\n",
            "InstanceNorm2d\n",
            "Sequential\n",
            "ResidualBlock\n",
            "ReflectionPad2d\n",
            "Conv2d\n",
            "InstanceNorm2d\n",
            "ReLU\n",
            "ReflectionPad2d\n",
            "Conv2d\n",
            "InstanceNorm2d\n",
            "Sequential\n",
            "ResidualBlock\n",
            "ReflectionPad2d\n",
            "Conv2d\n",
            "InstanceNorm2d\n",
            "ReLU\n",
            "ReflectionPad2d\n",
            "Conv2d\n",
            "InstanceNorm2d\n",
            "Sequential\n",
            "ResidualBlock\n",
            "ReflectionPad2d\n",
            "Conv2d\n",
            "InstanceNorm2d\n",
            "ReLU\n",
            "ReflectionPad2d\n",
            "Conv2d\n",
            "InstanceNorm2d\n",
            "Sequential\n",
            "ResidualBlock\n",
            "ReflectionPad2d\n",
            "Conv2d\n",
            "InstanceNorm2d\n",
            "ReLU\n",
            "ReflectionPad2d\n",
            "Conv2d\n",
            "InstanceNorm2d\n",
            "Sequential\n",
            "ResidualBlock\n",
            "ReflectionPad2d\n",
            "Conv2d\n",
            "InstanceNorm2d\n",
            "ReLU\n",
            "ReflectionPad2d\n",
            "Conv2d\n",
            "InstanceNorm2d\n",
            "Sequential\n",
            "ResidualBlock\n",
            "ReflectionPad2d\n",
            "Conv2d\n",
            "InstanceNorm2d\n",
            "ReLU\n",
            "ReflectionPad2d\n",
            "Conv2d\n",
            "InstanceNorm2d\n",
            "Sequential\n",
            "ResidualBlock\n",
            "ReflectionPad2d\n",
            "Conv2d\n",
            "InstanceNorm2d\n",
            "ReLU\n",
            "ReflectionPad2d\n",
            "Conv2d\n",
            "InstanceNorm2d\n",
            "Sequential\n",
            "ResidualBlock\n",
            "Upsample\n",
            "Conv2d\n",
            "ReLU\n",
            "Upsample\n",
            "Conv2d\n",
            "ReLU\n",
            "ReflectionPad2d\n",
            "Conv2d\n",
            "Tanh\n",
            "Sequential\n",
            "GeneratorResNet\n"
          ]
        }
      ],
      "source": [
        "G_AB.apply(temp_weights_init_normal);"
      ],
      "id": "reasonable-bonus"
    },
    {
      "cell_type": "markdown",
      "metadata": {
        "id": "bound-steel"
      },
      "source": [
        "`torch.nn.init.normal_(tensor, mean=0.0, std=1.0)`\n",
        "- Fills the input Tensor with values drawn from the normal distribution N(mean, std^2)"
      ],
      "id": "bound-steel"
    },
    {
      "cell_type": "code",
      "execution_count": null,
      "metadata": {
        "colab": {
          "base_uri": "https://localhost:8080/"
        },
        "id": "careful-strength",
        "outputId": "41cc4a94-35b4-4290-8eee-f0b23d288040"
      },
      "outputs": [
        {
          "output_type": "execute_result",
          "data": {
            "text/plain": [
              "tensor([[1., 1., 1., 1., 1.],\n",
              "        [1., 1., 1., 1., 1.]])"
            ]
          },
          "metadata": {},
          "execution_count": 25
        }
      ],
      "source": [
        "temp_w = torch.ones(2,5)\n",
        "temp_w"
      ],
      "id": "careful-strength"
    },
    {
      "cell_type": "code",
      "execution_count": null,
      "metadata": {
        "colab": {
          "base_uri": "https://localhost:8080/"
        },
        "id": "surgical-consistency",
        "outputId": "ff93e7fa-13e3-4c05-a207-282082a31081"
      },
      "outputs": [
        {
          "output_type": "execute_result",
          "data": {
            "text/plain": [
              "tensor([[-1.6535,  0.0379, -1.1880,  0.2640, -0.0030],\n",
              "        [ 0.4763, -0.0493,  0.4235,  0.7517,  0.5277]])"
            ]
          },
          "metadata": {},
          "execution_count": 26
        }
      ],
      "source": [
        "nn.init.normal_(temp_w)"
      ],
      "id": "surgical-consistency"
    },
    {
      "cell_type": "markdown",
      "metadata": {
        "id": "sublime-number"
      },
      "source": [
        "`torch.nn.init.constant_(tensor, val)`\n",
        "- Fills the input Tensor with value `val`\n"
      ],
      "id": "sublime-number"
    },
    {
      "cell_type": "code",
      "execution_count": null,
      "metadata": {
        "colab": {
          "base_uri": "https://localhost:8080/"
        },
        "id": "related-craps",
        "outputId": "992cab22-df9a-4ea8-c17b-e1c0719c0b00"
      },
      "outputs": [
        {
          "output_type": "execute_result",
          "data": {
            "text/plain": [
              "tensor([[3.7903e-31, 0.0000e+00, 3.7919e-31, 0.0000e+00, 8.9683e-44],\n",
              "        [0.0000e+00, 1.3452e-43, 0.0000e+00, 0.0000e+00, 0.0000e+00]])"
            ]
          },
          "metadata": {},
          "execution_count": 27
        }
      ],
      "source": [
        "temp_w2 = torch.empty(2,5)\n",
        "temp_w2"
      ],
      "id": "related-craps"
    },
    {
      "cell_type": "code",
      "execution_count": null,
      "metadata": {
        "colab": {
          "base_uri": "https://localhost:8080/"
        },
        "id": "complicated-porcelain",
        "outputId": "5c8fd259-5e05-490c-98a7-6a0b725221b4"
      },
      "outputs": [
        {
          "output_type": "execute_result",
          "data": {
            "text/plain": [
              "tensor([[1., 1., 1., 1., 1.],\n",
              "        [1., 1., 1., 1., 1.]])"
            ]
          },
          "metadata": {},
          "execution_count": 28
        }
      ],
      "source": [
        "nn.init.constant_(temp_w2, 1)"
      ],
      "id": "complicated-porcelain"
    },
    {
      "cell_type": "markdown",
      "metadata": {
        "id": "narrow-instrument"
      },
      "source": [
        "> Read More\n",
        "- [Torch.nn.init](https://pytorch.org/docs/stable/nn.init.html)"
      ],
      "id": "narrow-instrument"
    },
    {
      "cell_type": "markdown",
      "metadata": {
        "id": "signed-confusion"
      },
      "source": [
        "### Step 9. Configure Optimizers"
      ],
      "id": "signed-confusion"
    },
    {
      "cell_type": "code",
      "execution_count": null,
      "metadata": {
        "id": "irish-flush"
      },
      "outputs": [],
      "source": [
        "import itertools\n",
        "# lr = 0.0002\n",
        "# b1 = 0.5\n",
        "# b2 = 0.999\n",
        "\n",
        "optimizer_G = torch.optim.Adam(\n",
        "    itertools.chain(G_AB.parameters(), G_BA.parameters()), lr=lr, betas=(b1,b2)\n",
        ")\n",
        "\n",
        "optimizer_D_A = torch.optim.Adam(\n",
        "    D_A.parameters(), lr=lr, betas=(b1,b2)\n",
        ")\n",
        "optimizer_D_B = torch.optim.Adam(\n",
        "    D_B.parameters(), lr=lr, betas=(b1,b2)\n",
        ")"
      ],
      "id": "irish-flush"
    },
    {
      "cell_type": "markdown",
      "metadata": {
        "id": "frequent-contamination"
      },
      "source": [
        "### Step 10. Learning Rate Scheduler Setting"
      ],
      "id": "frequent-contamination"
    },
    {
      "cell_type": "code",
      "execution_count": null,
      "metadata": {
        "id": "right-neutral"
      },
      "outputs": [],
      "source": [
        "class LambdaLR:\n",
        "    def __init__(self, n_epochs, offset, decay_start_epoch):\n",
        "        assert (n_epochs - decay_start_epoch) > 0, \"Decay must start before the training session ends!\"\n",
        "        self.n_epochs = n_epochs\n",
        "        self.offset = offset\n",
        "        self.decay_start_epoch = decay_start_epoch\n",
        "        \n",
        "    def step(self, epoch):\n",
        "        return 1.0 - max(0, epoch+self.offset - self.decay_start_epoch)/(self.n_epochs - self.decay_start_epoch)"
      ],
      "id": "right-neutral"
    },
    {
      "cell_type": "code",
      "execution_count": null,
      "metadata": {
        "id": "necessary-merchandise"
      },
      "outputs": [],
      "source": [
        "# n_epochs = 10\n",
        "# epoch = 0\n",
        "# decay_epoch = 5\n",
        "\n",
        "\n",
        "lr_scheduler_G = torch.optim.lr_scheduler.LambdaLR(\n",
        "    optimizer_G,\n",
        "    lr_lambda=LambdaLR(n_epochs, epoch, decay_epoch).step\n",
        ")\n",
        "\n",
        "lr_scheduler_D_A = torch.optim.lr_scheduler.LambdaLR(\n",
        "    optimizer_D_A,\n",
        "    lr_lambda=LambdaLR(n_epochs, epoch, decay_epoch).step\n",
        ")\n",
        "lr_scheduler_D_B = torch.optim.lr_scheduler.LambdaLR(\n",
        "    optimizer_D_B,\n",
        "    lr_lambda=LambdaLR(n_epochs, epoch, decay_epoch).step\n",
        ")"
      ],
      "id": "necessary-merchandise"
    },
    {
      "cell_type": "markdown",
      "metadata": {
        "id": "civic-enclosure"
      },
      "source": [
        "### Step 11. Image Transformation Setting"
      ],
      "id": "civic-enclosure"
    },
    {
      "cell_type": "code",
      "execution_count": null,
      "metadata": {
        "id": "shaped-transmission"
      },
      "outputs": [],
      "source": [
        "from PIL import Image\n",
        "import torchvision.transforms as transforms\n",
        "\n",
        "transforms_ = [\n",
        "    transforms.Resize(int(img_height*1.12), Image.BICUBIC),\n",
        "    transforms.RandomCrop((img_height, img_width)),\n",
        "    transforms.RandomHorizontalFlip(),\n",
        "    transforms.ToTensor(),\n",
        "    transforms.Normalize((0.5, 0.5, 0.5), (0.5, 0.5, 0.5))\n",
        "]"
      ],
      "id": "shaped-transmission"
    },
    {
      "cell_type": "markdown",
      "metadata": {
        "id": "spiritual-tampa"
      },
      "source": [
        "### Step 12. DataLoader Setting"
      ],
      "id": "spiritual-tampa"
    },
    {
      "cell_type": "code",
      "execution_count": null,
      "metadata": {
        "id": "finished-county"
      },
      "outputs": [],
      "source": [
        "def to_rgb(image):\n",
        "    rgb_image = Image.new(\"RGB\", image.size)\n",
        "    rgb_image.paste(image)\n",
        "    return rgb_image"
      ],
      "id": "finished-county"
    },
    {
      "cell_type": "code",
      "execution_count": null,
      "metadata": {
        "id": "loaded-association"
      },
      "outputs": [],
      "source": [
        "import os\n",
        "import glob"
      ],
      "id": "loaded-association"
    },
    {
      "cell_type": "code",
      "execution_count": null,
      "metadata": {
        "colab": {
          "base_uri": "https://localhost:8080/"
        },
        "id": "EQuEhtLgyHaX",
        "outputId": "51f109c4-2825-4e66-eb59-790128d8d56e"
      },
      "outputs": [
        {
          "output_type": "stream",
          "name": "stdout",
          "text": [
            "/content/drive/MyDrive/dataset\n",
            "/content/drive/MyDrive/dataset/facetrain\n"
          ]
        },
        {
          "output_type": "execute_result",
          "data": {
            "text/plain": [
              "1560"
            ]
          },
          "metadata": {},
          "execution_count": 35
        }
      ],
      "source": [
        "print(root)\n",
        "print(root+'/facetrain')\n",
        "len(glob.glob(os.path.join(root+'/facetrain')+'/*.*'))\n",
        "\n",
        "len(glob.glob(os.path.join(root+'/balacalvatrain')+'/*.*'))\n"
      ],
      "id": "EQuEhtLgyHaX"
    },
    {
      "cell_type": "code",
      "execution_count": null,
      "metadata": {
        "id": "private-capacity"
      },
      "outputs": [],
      "source": [
        "from torch.utils.data import Dataset\n",
        "\n",
        "class ImageDataset(Dataset):\n",
        "    def __init__(self, root, transforms_=None, unaligned=False, mode='train'):\n",
        "        self.transform = transforms.Compose(transforms_)\n",
        "        self.unaligned = unaligned\n",
        "        self.mode = mode\n",
        "        if self.mode == 'train':\n",
        "            self.files_A = sorted(glob.glob(os.path.join(root+'/facetrainnew')+'/*.*')[1:1500])\n",
        "            self.files_B = sorted(glob.glob(os.path.join(root+'/baltrainnew')+'/*.*')[1:1500])\n",
        "        elif self.mode == 'test':\n",
        "            self.files_A = sorted(glob.glob(os.path.join(root+'/facetestnew')+'/*.*')[1:500])\n",
        "            self.files_B = sorted(glob.glob(os.path.join(root+'/baltestnew')+'/*.*')[1:500])\n",
        "\n",
        "    def  __getitem__(self, index):\n",
        "        image_A = Image.open(self.files_A[index % len(self.files_A)])\n",
        "        \n",
        "        if self.unaligned:\n",
        "            image_B = Image.open(self.files_B[np.random.randint(0, len(self.files_B)-1)])\n",
        "        else:\n",
        "            image_B = Image.open(self.files_B[index % len(self.files_B)])\n",
        "        if image_A.mode != 'RGB':\n",
        "            image_A = to_rgb(image_A)\n",
        "        if image_B.mode != 'RGB':\n",
        "            image_B = to_rgb(image_B)\n",
        "            \n",
        "        item_A = self.transform(image_A)\n",
        "        item_B = self.transform(image_B)\n",
        "        return {'A':item_A, 'B':item_B}\n",
        "    \n",
        "    def __len__(self):\n",
        "        return max(len(self.files_A), len(self.files_B))\n",
        "            "
      ],
      "id": "private-capacity"
    },
    {
      "cell_type": "code",
      "execution_count": null,
      "metadata": {
        "id": "confirmed-bankruptcy"
      },
      "outputs": [],
      "source": [
        "dataloader = DataLoader(\n",
        "    ImageDataset(root, transforms_=transforms_, unaligned=True),\n",
        "    batch_size=1, # 1\n",
        "    shuffle=True,\n",
        "    num_workers=n_cpu # 3\n",
        ")\n",
        "\n",
        "val_dataloader = DataLoader(\n",
        "    ImageDataset(root, transforms_=transforms_, unaligned=True, mode='test'),\n",
        "    batch_size=5,\n",
        "    shuffle=True,\n",
        "    num_workers=n_cpu\n",
        ")"
      ],
      "id": "confirmed-bankruptcy"
    },
    {
      "cell_type": "markdown",
      "metadata": {
        "id": "relative-making"
      },
      "source": [
        "### Step 13. Define function to get sample images"
      ],
      "id": "relative-making"
    },
    {
      "cell_type": "code",
      "execution_count": null,
      "metadata": {
        "colab": {
          "base_uri": "https://localhost:8080/"
        },
        "id": "YwkPMDq4d7YC",
        "outputId": "47108511-32a6-43b8-8328-9b85f68964a8"
      },
      "outputs": [
        {
          "output_type": "execute_result",
          "data": {
            "text/plain": [
              "<All keys matched successfully>"
            ]
          },
          "metadata": {},
          "execution_count": 38
        }
      ],
      "source": [
        "# Load the saved model\n",
        "checkpoint = torch.load('/content/drive/MyDrive/saved_modelFinal.pth')\n",
        "G_AB.load_state_dict(checkpoint['generator_A'])\n",
        "G_BA.load_state_dict(checkpoint['generator_B'])\n",
        "D_A.load_state_dict(checkpoint['discriminator_A'])\n",
        "D_B.load_state_dict(checkpoint['discriminator_B'])"
      ],
      "id": "YwkPMDq4d7YC"
    },
    {
      "cell_type": "code",
      "execution_count": null,
      "metadata": {
        "id": "indian-leave"
      },
      "outputs": [],
      "source": [
        "import matplotlib.pyplot as plt"
      ],
      "id": "indian-leave"
    },
    {
      "cell_type": "code",
      "execution_count": null,
      "metadata": {
        "id": "radio-bracket"
      },
      "outputs": [],
      "source": [
        "Tensor = torch.cuda.FloatTensor if cuda else torch.Tensor"
      ],
      "id": "radio-bracket"
    },
    {
      "cell_type": "code",
      "execution_count": null,
      "metadata": {
        "id": "digital-compensation"
      },
      "outputs": [],
      "source": [
        "def sample_images():\n",
        "    \"\"\"show a generated sample from the test set\"\"\"\n",
        "    imgs = next(iter(val_dataloader))\n",
        "    G_AB.eval()\n",
        "    G_BA.eval()\n",
        "    real_A = imgs['A'].type(Tensor) # A \n",
        "    fake_B = G_AB(real_A).detach()\n",
        "    real_B = imgs['B'].type(Tensor) # B \n",
        "    fake_A = G_BA(real_B).detach()\n",
        "    # Arange images along x-axis\n",
        "    real_A = make_grid(real_A, nrow=5, normalize=True)\n",
        "    fake_B = make_grid(fake_B, nrow=5, normalize=True)\n",
        "    real_B = make_grid(real_B, nrow=5, normalize=True)\n",
        "    fake_A = make_grid(fake_A, nrow=5, normalize=True)\n",
        "    # Arange images along y-axis    \n",
        "    image_grid = torch.cat((real_A, fake_B, real_B, fake_A), 1)\n",
        "    plt.imshow(image_grid.cpu().permute(1,2,0))\n",
        "    plt.title('Real A vs Fake B | Real B vs Fake A')\n",
        "    plt.axis('off')\n",
        "    plt.show();"
      ],
      "id": "digital-compensation"
    },
    {
      "cell_type": "markdown",
      "metadata": {
        "id": "contemporary-princeton"
      },
      "source": [
        "> TEST CODE : show image data"
      ],
      "id": "contemporary-princeton"
    },
    {
      "cell_type": "code",
      "execution_count": null,
      "metadata": {
        "id": "opening-address"
      },
      "outputs": [],
      "source": [
        "temp_imgs = next(iter(val_dataloader))"
      ],
      "id": "opening-address"
    },
    {
      "cell_type": "code",
      "execution_count": null,
      "metadata": {
        "colab": {
          "base_uri": "https://localhost:8080/"
        },
        "id": "diverse-nursing",
        "outputId": "7a9860e2-ed3c-4170-e52c-15f28ae53925"
      },
      "outputs": [
        {
          "output_type": "stream",
          "name": "stdout",
          "text": [
            "torch.Size([5, 3, 160, 120])\n",
            "torch.Size([5, 3, 160, 120])\n"
          ]
        }
      ],
      "source": [
        "G_AB.eval() # test mode \n",
        "G_BA.eval() # test mode\n",
        "print(temp_imgs['A'].shape)\n",
        "print(temp_imgs['B'].shape)\n"
      ],
      "id": "diverse-nursing"
    },
    {
      "cell_type": "code",
      "execution_count": null,
      "metadata": {
        "id": "minimal-eating"
      },
      "outputs": [],
      "source": [
        "temp_real_A = temp_imgs['A'].type(Tensor) # A : monet\n",
        "temp_fake_B = G_AB(temp_real_A).detach()\n",
        "temp_real_B = temp_imgs['B'].type(Tensor) # B : photo\n",
        "temp_fake_A = G_BA(temp_real_B).detach()"
      ],
      "id": "minimal-eating"
    },
    {
      "cell_type": "code",
      "execution_count": null,
      "metadata": {
        "colab": {
          "base_uri": "https://localhost:8080/"
        },
        "id": "agreed-spencer",
        "outputId": "e68cdd85-ca4e-4e5f-c903-ad9ca6b9e57f"
      },
      "outputs": [
        {
          "output_type": "stream",
          "name": "stdout",
          "text": [
            "torch.Size([5, 3, 160, 120])\n",
            "torch.Size([5, 3, 160, 120])\n",
            "torch.Size([5, 3, 160, 120])\n",
            "torch.Size([5, 3, 160, 120])\n"
          ]
        }
      ],
      "source": [
        "print(temp_real_A.shape)\n",
        "print(temp_fake_B.shape)\n",
        "print(temp_real_B.shape)\n",
        "print(temp_fake_A.shape)"
      ],
      "id": "agreed-spencer"
    },
    {
      "cell_type": "code",
      "execution_count": null,
      "metadata": {
        "id": "realistic-turner"
      },
      "outputs": [],
      "source": [
        "temp_real_A = make_grid(temp_real_A, nrow=5, normalize=True)\n",
        "temp_real_B = make_grid(temp_real_B, nrow=5, normalize=True)\n",
        "temp_fake_A = make_grid(temp_fake_A, nrow=5, normalize=True)\n",
        "temp_fake_B = make_grid(temp_fake_B, nrow=5, normalize=True)"
      ],
      "id": "realistic-turner"
    },
    {
      "cell_type": "code",
      "execution_count": null,
      "metadata": {
        "colab": {
          "base_uri": "https://localhost:8080/"
        },
        "id": "electronic-brief",
        "outputId": "2afdb7ec-1fff-488a-c0f2-072800f2313f"
      },
      "outputs": [
        {
          "output_type": "execute_result",
          "data": {
            "text/plain": [
              "torch.Tensor"
            ]
          },
          "metadata": {},
          "execution_count": 47
        }
      ],
      "source": [
        "type(temp_real_A)"
      ],
      "id": "electronic-brief"
    },
    {
      "cell_type": "code",
      "execution_count": null,
      "metadata": {
        "id": "contemporary-humor"
      },
      "outputs": [],
      "source": [
        "plt.imshow(temp_real_A.cpu().permute(1,2,0))\n",
        "plt.title('Real A')\n",
        "plt.axis('off');"
      ],
      "id": "contemporary-humor"
    },
    {
      "cell_type": "code",
      "execution_count": null,
      "metadata": {
        "colab": {
          "base_uri": "https://localhost:8080/"
        },
        "id": "adequate-brain",
        "outputId": "cdbe8dd9-3a18-4897-838b-589a7ba2713f"
      },
      "outputs": [
        {
          "output_type": "stream",
          "name": "stdout",
          "text": [
            "torch.Size([3, 164, 612])\n",
            "torch.Size([3, 164, 612])\n",
            "torch.Size([3, 164, 612])\n",
            "torch.Size([3, 164, 612])\n"
          ]
        }
      ],
      "source": [
        "print(temp_real_A.shape)\n",
        "print(temp_fake_B.shape)\n",
        "print(temp_real_B.shape)\n",
        "print(temp_fake_A.shape)"
      ],
      "id": "adequate-brain"
    },
    {
      "cell_type": "code",
      "execution_count": null,
      "metadata": {
        "colab": {
          "base_uri": "https://localhost:8080/"
        },
        "id": "referenced-anderson",
        "outputId": "093279dd-f5db-4175-8808-787b9917e9f4"
      },
      "outputs": [
        {
          "output_type": "stream",
          "name": "stdout",
          "text": [
            "torch.Size([3, 656, 612])\n"
          ]
        }
      ],
      "source": [
        "temp_image_grid = torch.cat((temp_real_A, temp_fake_A, temp_real_B, temp_fake_B), 1)\n",
        "print(temp_image_grid.shape)"
      ],
      "id": "referenced-anderson"
    },
    {
      "cell_type": "code",
      "execution_count": null,
      "metadata": {
        "colab": {
          "base_uri": "https://localhost:8080/"
        },
        "id": "muslim-generic",
        "outputId": "61eb4aba-2e70-4fb3-fe70-4cb3f1d3fdd5"
      },
      "outputs": [
        {
          "output_type": "execute_result",
          "data": {
            "text/plain": [
              "torch.Size([656, 612, 3])"
            ]
          },
          "metadata": {},
          "execution_count": 51
        }
      ],
      "source": [
        "temp_image_grid.cpu().permute(1,2,0).shape"
      ],
      "id": "muslim-generic"
    },
    {
      "cell_type": "code",
      "execution_count": null,
      "metadata": {
        "id": "civic-genesis"
      },
      "outputs": [],
      "source": [
        "plt.imshow(temp_image_grid.cpu().permute(1,2,0))\n",
        "plt.title('Real A | Fake B | Real B | Fake A ')\n",
        "plt.axis('off');"
      ],
      "id": "civic-genesis"
    },
    {
      "cell_type": "code",
      "execution_count": null,
      "metadata": {
        "id": "-N4WkU640eWd"
      },
      "outputs": [],
      "source": [
        "epoch_counter = 0"
      ],
      "id": "-N4WkU640eWd"
    },
    {
      "cell_type": "markdown",
      "metadata": {
        "id": "unlike-coupon"
      },
      "source": [
        "### Step 14. Training"
      ],
      "id": "unlike-coupon"
    },
    {
      "cell_type": "code",
      "execution_count": null,
      "metadata": {
        "id": "growing-ticket"
      },
      "outputs": [],
      "source": [
        "import matplotlib.pyplot as plt\n",
        "from tqdm.notebook import tqdm\n",
        "import warnings"
      ],
      "id": "growing-ticket"
    },
    {
      "cell_type": "code",
      "execution_count": null,
      "metadata": {
        "id": "sporting-cassette"
      },
      "outputs": [],
      "source": [
        "\n",
        "for epoch in range(epoch, n_epochs):\n",
        "    for i, batch in enumerate(tqdm(dataloader)):\n",
        "\n",
        "        # Set model input\n",
        "        real_A = batch['A'].type(Tensor)\n",
        "        real_B = batch['B'].type(Tensor)\n",
        "\n",
        "        # Adversarial ground truths\n",
        "        valid = Tensor(np.ones((real_A.size(0), *D_A.output_shape))) # requires_grad = False. Default.\n",
        "        fake = Tensor(np.zeros((real_A.size(0), *D_A.output_shape))) # requires_grad = False. Default.\n",
        "        \n",
        "# -----------------\n",
        "# Train Generators\n",
        "# -----------------\n",
        "        G_AB.train() # train mode\n",
        "        G_BA.train() # train mode\n",
        "        \n",
        "        optimizer_G.zero_grad() # Integrated optimizer(G_AB, G_BA)\n",
        "        \n",
        "        # Identity Loss\n",
        "        loss_id_A = criterion_identity(G_BA(real_A), real_A) # If you put A into a generator that creates A with B,\n",
        "        loss_id_B = criterion_identity(G_AB(real_B), real_B) # then of course A must come out as it is.\n",
        "                                                             # Taking this into consideration, add an identity loss that simply compares 'A and A' (or 'B and B').\n",
        "        loss_identity = (loss_id_A + loss_id_B)/2\n",
        "        \n",
        "        # GAN Loss\n",
        "        fake_B = G_AB(real_A) # fake_B is fake-photo that generated by real monet-drawing\n",
        "        loss_GAN_AB = criterion_GAN(D_B(fake_B), valid) # tricking the 'fake-B' into 'real-B'\n",
        "        fake_A = G_BA(real_B)\n",
        "        loss_GAN_BA = criterion_GAN(D_A(fake_A), valid) # tricking the 'fake-A' into 'real-A'\n",
        "        \n",
        "        loss_GAN = (loss_GAN_AB + loss_GAN_BA)/2\n",
        "        \n",
        "        # Cycle Loss\n",
        "        recov_A = G_BA(fake_B) # recov_A is fake-monet-drawing that generated by fake-photo\n",
        "        loss_cycle_A = criterion_cycle(recov_A, real_A) # Reduces the difference between the restored image and the real image\n",
        "        recov_B = G_AB(fake_A)\n",
        "        loss_cycle_B = criterion_cycle(recov_B, real_B)\n",
        "        \n",
        "        loss_cycle = (loss_cycle_A + loss_cycle_B)/2\n",
        "        \n",
        "# ------> Total Loss\n",
        "        loss_G = loss_GAN + (10.0*loss_cycle) + (5.0*loss_identity) # multiply suggested weight(default cycle loss weight : 10, default identity loss weight : 5)\n",
        "        \n",
        "        loss_G.backward()\n",
        "        optimizer_G.step()\n",
        "        \n",
        "# -----------------\n",
        "# Train Discriminator A\n",
        "# -----------------\n",
        "        optimizer_D_A.zero_grad()\n",
        "    \n",
        "        loss_real = criterion_GAN(D_A(real_A), valid) # train to discriminate real images as real\n",
        "        loss_fake = criterion_GAN(D_A(fake_A.detach()), fake) # train to discriminate fake images as fake\n",
        "        \n",
        "        loss_D_A = (loss_real + loss_fake)/2\n",
        "        \n",
        "        loss_D_A.backward()\n",
        "        optimizer_D_A.step()\n",
        "\n",
        "# -----------------\n",
        "# Train Discriminator B\n",
        "# -----------------\n",
        "        optimizer_D_B.zero_grad()\n",
        "    \n",
        "        loss_real = criterion_GAN(D_B(real_B), valid) # train to discriminate real images as real\n",
        "        loss_fake = criterion_GAN(D_B(fake_B.detach()), fake) # train to discriminate fake images as fake\n",
        "        \n",
        "        loss_D_B = (loss_real + loss_fake)/2\n",
        "        \n",
        "        loss_D_B.backward()\n",
        "        optimizer_D_B.step()\n",
        "        \n",
        "# ------> Total Loss\n",
        "        loss_D = (loss_D_A + loss_D_B)/2\n",
        "    \n",
        "# -----------------\n",
        "# Show Progress\n",
        "# -----------------\n",
        "        if (i+1) % 50 == 0:\n",
        "            sample_images()\n",
        "            print('[Epoch %d/%d] [Batch %d/%d] [D loss : %f] [G loss : %f - (adv : %f, cycle : %f, identity : %f)]'\n",
        "                    %(epoch+1,n_epochs,       # [Epoch -]\n",
        "                      i+1,len(dataloader),   # [Batch -]\n",
        "                      loss_D.item(),       # [D loss -]\n",
        "                      loss_G.item(),       # [G loss -]\n",
        "                      loss_GAN.item(),     # [adv -]\n",
        "                      loss_cycle.item(),   # [cycle -]\n",
        "                      loss_identity.item(),# [identity -]\n",
        "                     ))\n",
        "\n",
        "    # Save the trained model per epoch\n",
        "    torch.save({\n",
        "        'generator_A': G_AB.state_dict(),\n",
        "        'generator_B': G_BA.state_dict(),\n",
        "        'discriminator_A': D_A.state_dict(),\n",
        "        'discriminator_B':  D_B.state_dict(),},'/content/drive/MyDrive/saved_modelFinal.pth')\n",
        "    \n",
        "    torch.save(G_AB.state_dict(),'/content/drive/MyDrive/G_AB.pth')\n",
        "    torch.save(G_BA.state_dict(),'/content/drive/MyDrive/G_BA.pth')\n",
        "    epoch_counter+=1  \n"
      ],
      "id": "sporting-cassette"
    },
    {
      "cell_type": "code",
      "execution_count": null,
      "metadata": {
        "id": "_cja5oIE2X5W"
      },
      "outputs": [],
      "source": [
        "# if epoch_counter == 5 | 10 | 15 |20 | 25 | 30:\n",
        "#   #download model\n",
        "#     from google.colab import files\n",
        "#     files.download('/content/drive/MyDrive/saved_modelFinal.pth')\n"
      ],
      "id": "_cja5oIE2X5W"
    },
    {
      "cell_type": "markdown",
      "metadata": {
        "id": "cognitive-reader"
      },
      "source": [
        "> TEST CODE : check iteration and image shape"
      ],
      "id": "cognitive-reader"
    },
    {
      "cell_type": "code",
      "execution_count": null,
      "metadata": {
        "id": "polish-magazine"
      },
      "outputs": [],
      "source": [
        "for i, batch in enumerate(dataloader):\n",
        "    print('iter : {}  A.size : {}'.format(i,batch['A'].size()))\n",
        "    print('iter : {}  B.size : {}'.format(i,batch['B'].size()))\n",
        "    if i == 10:\n",
        "        break"
      ],
      "id": "polish-magazine"
    }
  ],
  "metadata": {
    "accelerator": "GPU",
    "colab": {
      "provenance": [],
      "collapsed_sections": [
        "fallen-steal"
      ],
      "gpuType": "T4"
    },
    "gpuClass": "standard",
    "kernelspec": {
      "display_name": "Python 3",
      "language": "python",
      "name": "python3"
    },
    "language_info": {
      "codemirror_mode": {
        "name": "ipython",
        "version": 3
      },
      "file_extension": ".py",
      "mimetype": "text/x-python",
      "name": "python",
      "nbconvert_exporter": "python",
      "pygments_lexer": "ipython3",
      "version": "3.10.0"
    },
    "papermill": {
      "default_parameters": {},
      "duration": 878.156739,
      "end_time": "2021-06-23T16:45:10.913048",
      "environment_variables": {},
      "exception": null,
      "input_path": "__notebook__.ipynb",
      "output_path": "__notebook__.ipynb",
      "parameters": {},
      "start_time": "2021-06-23T16:30:32.756309",
      "version": "2.3.3"
    }
  },
  "nbformat": 4,
  "nbformat_minor": 5
}